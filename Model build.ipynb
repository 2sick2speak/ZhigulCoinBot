{
 "cells": [
  {
   "cell_type": "code",
   "execution_count": null,
   "metadata": {
    "collapsed": true,
    "deletable": true,
    "editable": true
   },
   "outputs": [],
   "source": [
    "import pandas as pd\n",
    "import numpy as np\n",
    "import seaborn as sns\n",
    "%matplotlib inline"
   ]
  },
  {
   "cell_type": "markdown",
   "metadata": {},
   "source": [
    "# Preprocessing"
   ]
  },
  {
   "cell_type": "code",
   "execution_count": null,
   "metadata": {
    "collapsed": true
   },
   "outputs": [],
   "source": [
    "TOTAL_HISTORY_DEPTH = 350\n",
    "HISTORY_HORIZON = 60"
   ]
  },
  {
   "cell_type": "code",
   "execution_count": null,
   "metadata": {
    "collapsed": true,
    "deletable": true,
    "editable": true
   },
   "outputs": [],
   "source": [
    "df = pd.read_csv('data/train.csv', header=None)\n",
    "df.columns = ['price']"
   ]
  },
  {
   "cell_type": "code",
   "execution_count": null,
   "metadata": {
    "collapsed": false,
    "deletable": true,
    "editable": true
   },
   "outputs": [],
   "source": [
    "df_truncated = df['price'].iloc[-TOTAL_HISTORY_DEPTH:]\n",
    "df_truncated = df_truncated.reset_index(drop=True)"
   ]
  },
  {
   "cell_type": "code",
   "execution_count": null,
   "metadata": {
    "collapsed": false,
    "deletable": true,
    "editable": true
   },
   "outputs": [],
   "source": [
    "train_features_raw = []\n",
    "target_values = []\n",
    "for i in range(df_truncated.shape[0] - HISTORY_HORIZON):\n",
    "    next_day = df_truncated.iloc[HISTORY_HORIZON+i]\n",
    "    features_list = df_truncated.values[i:HISTORY_HORIZON+i].tolist()\n",
    "    target_values.append(next_day)\n",
    "    train_features_raw.append(features_list)"
   ]
  },
  {
   "cell_type": "code",
   "execution_count": null,
   "metadata": {
    "collapsed": true
   },
   "outputs": [],
   "source": [
    "train_df = pd.DataFrame(train_features_raw)\n",
    "train_df.head(5)"
   ]
  },
  {
   "cell_type": "markdown",
   "metadata": {},
   "source": [
    "# Feature generation"
   ]
  },
  {
   "cell_type": "code",
   "execution_count": null,
   "metadata": {
    "collapsed": true
   },
   "outputs": [],
   "source": [
    "# Extract various features from timeseries\n",
    "def feature_generator(line):\n",
    "    # Max min features\n",
    "    feature_list = []\n",
    "    last_week = line[-7:]\n",
    "    last_month = line[-30:]\n",
    "    for slices in (last_week, last_month, line):\n",
    "        feature_list.extend([np.max(slices), np.min(slices), np.median(slices), np.mean(slices)])\n",
    "    \n",
    "    # Raw last month values\n",
    "    feature_list.extend(last_month)\n",
    "    # Day-to-day diffs\n",
    "    feature_list.extend(day_to_day_diff(last_month))\n",
    "    last_month_mean = np.mean(last_month)\n",
    "    # Diffs from average\n",
    "    feature_list.extend([day_value - last_month_mean for day_value in last_month])\n",
    "    return feature_list\n",
    "\n",
    "def day_to_day_diff(line):\n",
    "    return [line[i + 1] - line[i] for i in range(0, len(line) - 1)]"
   ]
  },
  {
   "cell_type": "code",
   "execution_count": null,
   "metadata": {
    "collapsed": true
   },
   "outputs": [],
   "source": [
    "features_df = train_df.apply(lambda x: feature_generator(x.tolist()), axis=1)"
   ]
  },
  {
   "cell_type": "markdown",
   "metadata": {
    "deletable": true,
    "editable": true
   },
   "source": [
    "# Train model"
   ]
  },
  {
   "cell_type": "code",
   "execution_count": null,
   "metadata": {
    "collapsed": true
   },
   "outputs": [],
   "source": [
    "# XGBoost for sure!\n",
    "from sklearn.cross_validation import KFold\n",
    "import xgboost as xgb"
   ]
  },
  {
   "cell_type": "code",
   "execution_count": null,
   "metadata": {
    "collapsed": true,
    "deletable": true,
    "editable": true
   },
   "outputs": [],
   "source": [
    "params = {}\n",
    "params[\"objective\"] = \"reg:linear\"     \n",
    "params[\"eta\"] = 0.01\n",
    "params[\"subsample\"] = 0.9\n",
    "params[\"colsample_bytree\"] = 0.9\n",
    "params[\"silent\"] = 0\n",
    "params[\"max_depth\"] = 5\n",
    "num_round = 1000"
   ]
  },
  {
   "cell_type": "code",
   "execution_count": null,
   "metadata": {
    "collapsed": false,
    "deletable": true,
    "editable": true
   },
   "outputs": [],
   "source": [
    "y = pd.Series(target_values)\n",
    "kf = KFold(len(y), n_folds=4, shuffle=True, random_state=42)"
   ]
  },
  {
   "cell_type": "code",
   "execution_count": null,
   "metadata": {
    "collapsed": false,
    "deletable": true,
    "editable": true
   },
   "outputs": [],
   "source": [
    "for train_index, test_index in kf:\n",
    "    \n",
    "    xg_train = xgb.DMatrix(features_df[train_index].tolist(), label=y[train_index].values)\n",
    "    xg_test = xgb.DMatrix(features_df[test_index].tolist(), label=y[test_index].values) \n",
    "    watchlist = [ (xg_train,'train'), (xg_test, 'test') ]\n",
    "    bst = xgb.train(params, xg_train, num_round, watchlist, early_stopping_rounds=30)#, learning_rates = eta_f)"
   ]
  },
  {
   "cell_type": "markdown",
   "metadata": {},
   "source": [
    "# Final training & save model"
   ]
  },
  {
   "cell_type": "code",
   "execution_count": null,
   "metadata": {
    "collapsed": true,
    "deletable": true,
    "editable": true
   },
   "outputs": [],
   "source": [
    "FINAL_NUM_ROUND = 500"
   ]
  },
  {
   "cell_type": "code",
   "execution_count": null,
   "metadata": {
    "collapsed": true
   },
   "outputs": [],
   "source": [
    "bst = xgb.train(params, xgb.DMatrix(features_df.tolist(), label=y.values) , final_num_round)"
   ]
  },
  {
   "cell_type": "code",
   "execution_count": 1,
   "metadata": {
    "collapsed": true
   },
   "outputs": [],
   "source": [
    "import settings\n",
    "bst.save_model(settings.ML_MODEL_PATH)"
   ]
  },
  {
   "cell_type": "code",
   "execution_count": null,
   "metadata": {
    "collapsed": true
   },
   "outputs": [],
   "source": []
  }
 ],
 "metadata": {
  "kernelspec": {
   "display_name": "Python 3",
   "language": "python",
   "name": "python3"
  },
  "language_info": {
   "codemirror_mode": {
    "name": "ipython",
    "version": 3
   },
   "file_extension": ".py",
   "mimetype": "text/x-python",
   "name": "python",
   "nbconvert_exporter": "python",
   "pygments_lexer": "ipython3",
   "version": "3.5.2"
  }
 },
 "nbformat": 4,
 "nbformat_minor": 2
}
